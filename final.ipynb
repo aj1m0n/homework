{
 "cells": [
  {
   "cell_type": "markdown",
   "metadata": {},
   "source": [
    "# プログラム"
   ]
  },
  {
   "cell_type": "code",
   "execution_count": 1,
   "metadata": {},
   "outputs": [],
   "source": [
    "class Newton(object):\n",
    "    def __init__(self, f, d1f,B):\n",
    "        self.f = f\n",
    "        self.d1f = d1f\n",
    "        self.B = B\n",
    "    def _update(self, bar_x):\n",
    "        f = self.f\n",
    "        d1f = self.d1f\n",
    "        B = self.B\n",
    "        return bar_x - d1f(bar_x)*B\n",
    "   \n",
    "    def solve(self,init_x, n_iter, tol):\n",
    "        bar_x = init_x\n",
    "        for i in range(n_iter):\n",
    "            x = self._update(bar_x)\n",
    "            error = abs(x - bar_x)\n",
    "            print(\"|Δx| = {0:.4f}, x = {1:.4f}\".format(error, x))\n",
    "            print(\"y = {0:.4f}\".format(self.f(x)))\n",
    "            bar_x = x\n",
    "            if error < tol:\n",
    "                break\n",
    "        return x"
   ]
  },
  {
   "cell_type": "code",
   "execution_count": 2,
   "metadata": {},
   "outputs": [
    {
     "name": "stdout",
     "output_type": "stream",
     "text": [
      "|Δx| = 1.8000, x = 8.2000\n",
      "y = 50.8400\n",
      "|Δx| = 1.4400, x = 6.7600\n",
      "y = 32.1776\n",
      "|Δx| = 1.1520, x = 5.6080\n",
      "y = 20.2337\n",
      "|Δx| = 0.9216, x = 4.6864\n",
      "y = 12.5895\n",
      "|Δx| = 0.7373, x = 3.9491\n",
      "y = 7.6973\n",
      "|Δx| = 0.5898, x = 3.3593\n",
      "y = 4.5663\n",
      "|Δx| = 0.4719, x = 2.8874\n",
      "y = 2.5624\n",
      "|Δx| = 0.3775, x = 2.5099\n",
      "y = 1.2799\n",
      "|Δx| = 0.3020, x = 2.2080\n",
      "y = 0.4592\n",
      "|Δx| = 0.2416, x = 1.9664\n",
      "y = -0.0661\n",
      "|Δx| = 0.1933, x = 1.7731\n",
      "y = -0.4023\n",
      "|Δx| = 0.1546, x = 1.6185\n",
      "y = -0.6175\n",
      "|Δx| = 0.1237, x = 1.4948\n",
      "y = -0.7552\n",
      "|Δx| = 0.0990, x = 1.3958\n",
      "y = -0.8433\n",
      "|Δx| = 0.0792, x = 1.3167\n",
      "y = -0.8997\n",
      "|Δx| = 0.0633, x = 1.2533\n",
      "y = -0.9358\n",
      "|Δx| = 0.0507, x = 1.2027\n",
      "y = -0.9589\n",
      "|Δx| = 0.0405, x = 1.1621\n",
      "y = -0.9737\n",
      "|Δx| = 0.0324, x = 1.1297\n",
      "y = -0.9832\n",
      "|Δx| = 0.0259, x = 1.1038\n",
      "y = -0.9892\n",
      "|Δx| = 0.0208, x = 1.0830\n",
      "y = -0.9931\n",
      "|Δx| = 0.0166, x = 1.0664\n",
      "y = -0.9956\n",
      "|Δx| = 0.0133, x = 1.0531\n",
      "y = -0.9972\n",
      "|Δx| = 0.0106, x = 1.0425\n",
      "y = -0.9982\n",
      "|Δx| = 0.0085, x = 1.0340\n",
      "y = -0.9988\n",
      "x = 1.0, y= -1.0\n"
     ]
    }
   ],
   "source": [
    "f = lambda x: x**2 - 2*x\n",
    "d1f = lambda x: 2*x - 2\n",
    "\n",
    "newton = Newton(f=f, d1f=d1f, B=0.1)\n",
    "res = newton.solve(init_x=10, n_iter=100, tol=0.01)\n",
    "print(\"x = {0:.1f}, y= {1:.1f}\".format(res,f(res)))"
   ]
  },
  {
   "cell_type": "code",
   "execution_count": null,
   "metadata": {},
   "outputs": [],
   "source": []
  },
  {
   "cell_type": "code",
   "execution_count": null,
   "metadata": {},
   "outputs": [],
   "source": []
  }
 ],
 "metadata": {
  "anaconda-cloud": {},
  "kernelspec": {
   "display_name": "Python 3",
   "language": "python",
   "name": "python3"
  },
  "language_info": {
   "codemirror_mode": {
    "name": "ipython",
    "version": 3
   },
   "file_extension": ".py",
   "mimetype": "text/x-python",
   "name": "python",
   "nbconvert_exporter": "python",
   "pygments_lexer": "ipython3",
   "version": "3.5.2"
  }
 },
 "nbformat": 4,
 "nbformat_minor": 2
}
